{
 "cells": [
  {
   "cell_type": "markdown",
   "metadata": {},
   "source": [
    "## Machine Learning Assignment 1\n",
    "### Question 2b\n",
    "#### Group 1: Siow Meng Low, Louise Fallon, Nikhita Venkatesan, George Pastakas, Cecilia Nok Sze Cheung, Steven Locorotondo"
   ]
  },
  {
   "cell_type": "markdown",
   "metadata": {},
   "source": [
    "#### Group Assignment: Predicting Wine Quality with k-Nearest Neighbours\n",
    "\n",
    "In this assignment we will use the data file [wine_quality-red.csv](http://archive.ics.uci.edu/ml/machine-learning-databases/wine-quality/) which contains red variants of the Portuguese \"Vinho Verde\" wine. More information on the dataset can be found [here](http://archive.ics.uci.edu/ml/datasets/Wine+Quality).\n",
    "\n",
    "##### 1. Loads Data File\n",
    "\n",
    "First of all, we import the required Python libraries. Then, we set the seed and load the red wines data."
   ]
  },
  {
   "cell_type": "code",
   "execution_count": 1,
   "metadata": {
    "collapsed": false
   },
   "outputs": [],
   "source": [
    "%matplotlib inline\n",
    "\n",
    "import itertools\n",
    "import pandas as pd\n",
    "import numpy as np\n",
    "\n",
    "from sklearn.neighbors import KNeighborsClassifier\n",
    "from sklearn.model_selection import train_test_split, KFold\n",
    "from sklearn.metrics import confusion_matrix\n",
    "\n",
    "import matplotlib.pyplot as plt\n",
    "import matplotlib.lines as mlines\n",
    "\n",
    "seedValue = 66\n",
    "np.random.seed(seedValue)\n",
    "\n",
    "# Load dataset\n",
    "red_wine = pd.read_csv('winequality-red.csv', sep = ';')\n"
   ]
  },
  {
   "cell_type": "markdown",
   "metadata": {},
   "source": [
    "##### 2. Binary Column - \"Good Wine\"\n",
    "\n",
    "Next, we define a boolean-typed column \"Good Wine\" in the dataframe. A value \"True\" indicates it's a good wine while value \"False\" indicates otherwise."
   ]
  },
  {
   "cell_type": "code",
   "execution_count": 2,
   "metadata": {
    "collapsed": false
   },
   "outputs": [
    {
     "data": {
      "text/html": [
       "<div>\n",
       "<table border=\"1\" class=\"dataframe\">\n",
       "  <thead>\n",
       "    <tr style=\"text-align: right;\">\n",
       "      <th></th>\n",
       "      <th>fixed acidity</th>\n",
       "      <th>volatile acidity</th>\n",
       "      <th>citric acid</th>\n",
       "      <th>residual sugar</th>\n",
       "      <th>chlorides</th>\n",
       "      <th>free sulfur dioxide</th>\n",
       "      <th>total sulfur dioxide</th>\n",
       "      <th>density</th>\n",
       "      <th>pH</th>\n",
       "      <th>sulphates</th>\n",
       "      <th>alcohol</th>\n",
       "      <th>quality</th>\n",
       "      <th>GoodWine</th>\n",
       "    </tr>\n",
       "  </thead>\n",
       "  <tbody>\n",
       "    <tr>\n",
       "      <th>0</th>\n",
       "      <td>7.4</td>\n",
       "      <td>0.70</td>\n",
       "      <td>0.00</td>\n",
       "      <td>1.9</td>\n",
       "      <td>0.076</td>\n",
       "      <td>11.0</td>\n",
       "      <td>34.0</td>\n",
       "      <td>0.9978</td>\n",
       "      <td>3.51</td>\n",
       "      <td>0.56</td>\n",
       "      <td>9.4</td>\n",
       "      <td>5</td>\n",
       "      <td>False</td>\n",
       "    </tr>\n",
       "    <tr>\n",
       "      <th>1</th>\n",
       "      <td>7.8</td>\n",
       "      <td>0.88</td>\n",
       "      <td>0.00</td>\n",
       "      <td>2.6</td>\n",
       "      <td>0.098</td>\n",
       "      <td>25.0</td>\n",
       "      <td>67.0</td>\n",
       "      <td>0.9968</td>\n",
       "      <td>3.20</td>\n",
       "      <td>0.68</td>\n",
       "      <td>9.8</td>\n",
       "      <td>5</td>\n",
       "      <td>False</td>\n",
       "    </tr>\n",
       "    <tr>\n",
       "      <th>2</th>\n",
       "      <td>7.8</td>\n",
       "      <td>0.76</td>\n",
       "      <td>0.04</td>\n",
       "      <td>2.3</td>\n",
       "      <td>0.092</td>\n",
       "      <td>15.0</td>\n",
       "      <td>54.0</td>\n",
       "      <td>0.9970</td>\n",
       "      <td>3.26</td>\n",
       "      <td>0.65</td>\n",
       "      <td>9.8</td>\n",
       "      <td>5</td>\n",
       "      <td>False</td>\n",
       "    </tr>\n",
       "    <tr>\n",
       "      <th>3</th>\n",
       "      <td>11.2</td>\n",
       "      <td>0.28</td>\n",
       "      <td>0.56</td>\n",
       "      <td>1.9</td>\n",
       "      <td>0.075</td>\n",
       "      <td>17.0</td>\n",
       "      <td>60.0</td>\n",
       "      <td>0.9980</td>\n",
       "      <td>3.16</td>\n",
       "      <td>0.58</td>\n",
       "      <td>9.8</td>\n",
       "      <td>6</td>\n",
       "      <td>True</td>\n",
       "    </tr>\n",
       "    <tr>\n",
       "      <th>4</th>\n",
       "      <td>7.4</td>\n",
       "      <td>0.70</td>\n",
       "      <td>0.00</td>\n",
       "      <td>1.9</td>\n",
       "      <td>0.076</td>\n",
       "      <td>11.0</td>\n",
       "      <td>34.0</td>\n",
       "      <td>0.9978</td>\n",
       "      <td>3.51</td>\n",
       "      <td>0.56</td>\n",
       "      <td>9.4</td>\n",
       "      <td>5</td>\n",
       "      <td>False</td>\n",
       "    </tr>\n",
       "  </tbody>\n",
       "</table>\n",
       "</div>"
      ],
      "text/plain": [
       "   fixed acidity  volatile acidity  citric acid  residual sugar  chlorides  \\\n",
       "0            7.4              0.70         0.00             1.9      0.076   \n",
       "1            7.8              0.88         0.00             2.6      0.098   \n",
       "2            7.8              0.76         0.04             2.3      0.092   \n",
       "3           11.2              0.28         0.56             1.9      0.075   \n",
       "4            7.4              0.70         0.00             1.9      0.076   \n",
       "\n",
       "   free sulfur dioxide  total sulfur dioxide  density    pH  sulphates  \\\n",
       "0                 11.0                  34.0   0.9978  3.51       0.56   \n",
       "1                 25.0                  67.0   0.9968  3.20       0.68   \n",
       "2                 15.0                  54.0   0.9970  3.26       0.65   \n",
       "3                 17.0                  60.0   0.9980  3.16       0.58   \n",
       "4                 11.0                  34.0   0.9978  3.51       0.56   \n",
       "\n",
       "   alcohol  quality GoodWine  \n",
       "0      9.4        5    False  \n",
       "1      9.8        5    False  \n",
       "2      9.8        5    False  \n",
       "3      9.8        6     True  \n",
       "4      9.4        5    False  "
      ]
     },
     "execution_count": 2,
     "metadata": {},
     "output_type": "execute_result"
    }
   ],
   "source": [
    "# Construct a new binary column “GoodWine” that indicates whether the wine is good \n",
    "# which we define as having a quality of 6 or higher or not\n",
    "red_wine['GoodWine'] = (red_wine['quality'] >= 6)\n",
    "\n",
    "# Show the first 5 rows of the redWine dataframe\n",
    "red_wine.head(5)"
   ]
  },
  {
   "cell_type": "markdown",
   "metadata": {},
   "source": [
    "##### 3. Split into Training (~50%) and Test (~50%) Sets\n",
    "\n",
    "We then split the dataset into two sets: training and test set (approximately ~50% of the data each set). All the columns, except 'Quality' and 'GoodWine' columns, are used as predictors. The 'GoodWine' column is used as the outcome variable.\n",
    "\n",
    "Note that the scikit-learn function 'train_test_split' does the record shuffling before splitting into training and test sets."
   ]
  },
  {
   "cell_type": "code",
   "execution_count": 3,
   "metadata": {
    "collapsed": true
   },
   "outputs": [],
   "source": [
    "# Split dataset randomly into training and test dataset (~50% each) \n",
    "train, test = train_test_split(red_wine, test_size = 0.5, random_state = seedValue)\n",
    "\n",
    "trainX = train.iloc[ : , :-2].as_matrix()\n",
    "testX = test.iloc[ : , :-2].as_matrix()\n",
    "trainY = train['GoodWine'].as_matrix()\n",
    "testY = test['GoodWine'].as_matrix()"
   ]
  },
  {
   "cell_type": "markdown",
   "metadata": {},
   "source": [
    "##### 4. Z-Score Normalisation\n",
    "\n",
    "Since the predictors are on different scale, we will need to normalise them before using k-Nearest Neighbours to train them. We first estimate the mean and standard deviation using the training samples and use them to calculate the zScore for both training and test sets.\n",
    "\n",
    "Two helper functions are defined to facilitate the scaling:  \n",
    "\n",
    "1. Compute column-wise mean and standard deviations (note that unbiased sample standard deviation is used, i.e. denominator is N - 1)\n",
    "2. Calculate the normalised z-Score\n",
    "\n",
    "Note that we use the unbiased sample standard deviation as estimate (i.e. N - 1 as denominator)."
   ]
  },
  {
   "cell_type": "code",
   "execution_count": 4,
   "metadata": {
    "collapsed": false
   },
   "outputs": [],
   "source": [
    "def compMeanStd(dataMatrix):\n",
    "    # Use sample standard deviation (denominator = n - 1)\n",
    "    return np.mean(dataMatrix, axis = 0), np.std(dataMatrix, axis = 0, ddof = 1)\n",
    "\n",
    "def zScore(dataMatrix, meanValue, stdValue):\n",
    "    return ((dataMatrix - meanValue) / stdValue)\n",
    "\n",
    "meanVal, stdVal = compMeanStd(trainX)\n",
    "# Scale data using only the estimates from (training + validation) data\n",
    "trainXscaled = zScore(trainX, meanVal, stdVal)\n",
    "testXscaled = zScore(testX, meanVal, stdVal)"
   ]
  },
  {
   "cell_type": "markdown",
   "metadata": {},
   "source": [
    "##### 5&6. k-Nearest Neighbours Training and 5-Fold Cross Validation\n",
    "\n",
    "In this section, we train the the k-Nearest Neighbours classifier (with different k values) and validate them using 5-fold cross-validation approach.\n",
    "\n",
    "For Part 5, we train the model using all the training data and record the in-training performance for different K-values (to be used in the plot in later section).\n",
    "\n",
    "For Part 6, we divide the training data using 5 folds and use 5-fold cross validation approach to obtain the average validation performance (for different values of K). The K-value, which yields the best validation performance (in terms of accuracy), will be selected as the final model.\n",
    "\n",
    "Note that we use accuracy as the performance measure for comparing models, since the objective of this Machine Learning application is not clearly specified. If detecting true positives were more important (for this application), we could use sensitivity and if true negatives were more important, we could use specificity."
   ]
  },
  {
   "cell_type": "code",
   "execution_count": 5,
   "metadata": {
    "collapsed": true
   },
   "outputs": [],
   "source": [
    "# For the training set, use k-fold cross validation to split into training and validation\n",
    "kf = KFold(n_splits = 5, random_state = seedValue)\n",
    "\n",
    "for k in range(1, 502, 5):\n",
    "    \n",
    "    # Part 5: Train using all training data and obtain training data performance (used for plot later)\n",
    "    clf = KNeighborsClassifier(n_neighbors = k, weights = 'uniform')\n",
    "    clf.fit(trainXscaled, trainY) # Fit on training data\n",
    "    prediction = clf.predict(trainXscaled)\n",
    "    actual = trainY # Actual outcome values of validation data\n",
    "    numTP = sum((actual == True) & (prediction == True))\n",
    "    numTN = sum((actual == False) & (prediction == False))\n",
    "    trainAcc = (numTP + numTN) / len(actual)\n",
    "    trainSens = numTP / sum(actual == True)\n",
    "    trainSpec = numTN / sum(actual == False)\n",
    "    if k == 1:\n",
    "        TrainPerfK = [[k, np.mean(trainAcc), np.mean(trainSens), np.mean(trainSpec)]]\n",
    "    else:\n",
    "        TrainPerfK = np.append(TrainPerfK, \n",
    "                               [[k, np.mean(trainAcc), np.mean(trainSens), np.mean(trainSpec)]], \n",
    "                               axis = 0)    \n",
    "        \n",
    "    # Part 6: Train and validate by splitting using 5-fold cross validation\n",
    "    acc = []\n",
    "    sens = []\n",
    "    spec = []\n",
    "    for trainIndex, valIndex in kf.split(trainXscaled):\n",
    "        clf = KNeighborsClassifier(n_neighbors = k, weights = 'uniform')\n",
    "        clf.fit(trainXscaled[trainIndex], trainY[trainIndex]) # Fit on training data\n",
    "        # Predict on validation data\n",
    "        prediction = clf.predict(trainXscaled[valIndex]) # Predict on validation data\n",
    "        actual = trainY[valIndex] # Actual outcome values of validation data\n",
    "        numTP = sum((actual == True) & (prediction == True))\n",
    "        numTN = sum((actual == False) & (prediction == False))\n",
    "        acc.append((numTP + numTN) / len(actual))\n",
    "        sens.append(numTP / sum(actual == True))\n",
    "        spec.append(numTN / sum(actual == False))\n",
    "    if k == 1:\n",
    "        CVPerfK = [[k, np.mean(acc), np.mean(sens), np.mean(spec)]]\n",
    "    else:\n",
    "        CVPerfK = np.append(CVPerfK, [[k, np.mean(acc), np.mean(sens), np.mean(spec)]], axis = 0)\n",
    "\n",
    "bestK = CVPerfK[np.argmax(CVPerfK, axis = 0)[1], 0] # Select bestK based on accuracy"
   ]
  },
  {
   "cell_type": "markdown",
   "metadata": {},
   "source": [
    "##### 7. Generalisation Error and Confusion Matrix\n",
    "\n",
    "Now we have found the best k value for the k-Nearest Neighbour classifier, we then retrain the classifier using the whole training data and estimate its performance on the test data, in order to obtain the final generalisation error. "
   ]
  },
  {
   "cell_type": "code",
   "execution_count": 6,
   "metadata": {
    "collapsed": true
   },
   "outputs": [],
   "source": [
    "clf = KNeighborsClassifier(n_neighbors = int(bestK), weights = 'uniform')\n",
    "# Test Phase: Re-train on all training data (all training + validation data used in K-fold)\n",
    "clf.fit(trainXscaled, trainY)\n",
    "prediction = clf.predict(testXscaled) # Predict on test data\n",
    "actual = testY # Actual outcome values of test data\n",
    "numTP = sum((actual == True) & (prediction == True))\n",
    "numTN = sum((actual == False) & (prediction == False))\n",
    "numFN = sum((actual == True) & (prediction == False))\n",
    "numFP = sum((actual == False) & (prediction == True))\n",
    "acc = (numTP + numTN) / len(actual)\n",
    "sens = numTP / sum(actual == True)\n",
    "spec = numTN / sum(actual == False)\n",
    "# Confusion matrix - Generalisation Error\n",
    "testConfMat = pd.DataFrame([[numTP, numFN], [numFP, numTN]], \n",
    "                           columns = ['True', 'False'], \n",
    "                           index = ['True', 'False'])"
   ]
  },
  {
   "cell_type": "markdown",
   "metadata": {},
   "source": [
    "The accuracy, sensitivity and specificity (estimated using the predictions on test set) are shown in the table."
   ]
  },
  {
   "cell_type": "code",
   "execution_count": 7,
   "metadata": {
    "collapsed": false
   },
   "outputs": [
    {
     "data": {
      "text/html": [
       "<div>\n",
       "<table border=\"1\" class=\"dataframe\">\n",
       "  <thead>\n",
       "    <tr style=\"text-align: right;\">\n",
       "      <th></th>\n",
       "      <th>K</th>\n",
       "      <th>accuracy</th>\n",
       "      <th>sensitivity</th>\n",
       "      <th>specificity</th>\n",
       "    </tr>\n",
       "  </thead>\n",
       "  <tbody>\n",
       "    <tr>\n",
       "      <th>0</th>\n",
       "      <td>31</td>\n",
       "      <td>0.70875</td>\n",
       "      <td>0.754854</td>\n",
       "      <td>0.659794</td>\n",
       "    </tr>\n",
       "  </tbody>\n",
       "</table>\n",
       "</div>"
      ],
      "text/plain": [
       "    K  accuracy  sensitivity  specificity\n",
       "0  31   0.70875     0.754854     0.659794"
      ]
     },
     "execution_count": 7,
     "metadata": {},
     "output_type": "execute_result"
    }
   ],
   "source": [
    "pd.DataFrame([[int(bestK), acc, sens, spec]], columns = ['K', 'accuracy', 'sensitivity', 'specificity'])"
   ]
  },
  {
   "cell_type": "markdown",
   "metadata": {},
   "source": [
    "To illustrate the whole model selection process, we also plot the classification errors for different values of K, in the below graph."
   ]
  },
  {
   "cell_type": "code",
   "execution_count": 8,
   "metadata": {
    "collapsed": false
   },
   "outputs": [
    {
     "data": {
      "image/png": "[encoded data removed]",
      "text/plain": [
       "<matplotlib.figure.Figure at 0x1ead3a882e8>"
      ]
     },
     "metadata": {},
     "output_type": "display_data"
    }
   ],
   "source": [
    "# Plot results\n",
    "plt.figure(figsize = (12, 6))\n",
    "\n",
    "plt.axvline(x = bestK, ymin = 0, ymax = 0.65, ls = '--', linewidth =  1, color = 'k')\n",
    "plt.plot(CVPerfK[ : , 0], 1 - CVPerfK[:, 1], 'r-', color = 'red', alpha = 0.75)\n",
    "plt.plot(TrainPerfK[ : , 0], 1 - TrainPerfK[:, 1], 'r-', color = 'blue', alpha = 0.75)\n",
    "\n",
    "validationClassError = 1 - CVPerfK[CVPerfK[ : , 0] == bestK, 1].item()\n",
    "plt.plot(bestK, validationClassError, 'ro', alpha = 0.75)\n",
    "plt.annotate('optimal k = ' + str(int(bestK)), xy=(bestK, validationClassError), \n",
    "             xytext=(bestK + 80, validationClassError + 0.05), \\\n",
    "             arrowprops = dict(facecolor = 'k', shrink = 0.05))\n",
    "\n",
    "testClassError = 1 - acc\n",
    "plt.plot(bestK, testClassError, 'ro', color = 'green', alpha = 0.75)\n",
    "plt.annotate('generalisation error', xy=(bestK, testClassError), \n",
    "             xytext=(bestK + 100, testClassError + 0.05), \\\n",
    "             arrowprops = dict(facecolor = 'k', shrink = 0.05))\n",
    "\n",
    "plt.xlabel('# Neighbours')\n",
    "plt.ylabel('Classification Error')\n",
    "plt.title('kNN Classifier Evaluation')\n",
    "plt.grid(True)\n",
    "plt.xlim([-1, 501])\n",
    "plt.gca().invert_xaxis()\n",
    "\n",
    "# Create legend\n",
    "blue_line = mlines.Line2D([], [], color = 'blue', label = 'Training set')\n",
    "red_line = mlines.Line2D([], [], color = 'red', label = '5-fold Cross Validation')\n",
    "green_line = mlines.Line2D([], [], color = 'green', label = 'Test set')\n",
    "\n",
    "plt.legend(handles = [blue_line, red_line, green_line], loc = 3)\n",
    "\n",
    "plt.show()"
   ]
  },
  {
   "cell_type": "markdown",
   "metadata": {},
   "source": [
    "The green dot above indicates the generalisation error (measured using estimation misclassification rate (i.e. 1 - accuracy), obtained using test set.\n",
    "\n",
    "Next, we will plot the confusion matrix of the prediction results using the test set."
   ]
  },
  {
   "cell_type": "code",
   "execution_count": 9,
   "metadata": {
    "collapsed": false
   },
   "outputs": [
    {
     "data": {
      "image/png": "[encoded data removed]",
      "text/plain": [
       "<matplotlib.figure.Figure at 0x1ead3a835f8>"
      ]
     },
     "metadata": {},
     "output_type": "display_data"
    }
   ],
   "source": [
    "def plot_confusion_matrix(cm, classes,\n",
    "                          normalize = False,\n",
    "                          title = 'Confusion matrix',\n",
    "                          cmap = plt.cm.Blues):\n",
    "    \"\"\"\n",
    "    This function prints and plots the confusion matrix.\n",
    "    Normalization can be applied by setting `normalize=True`.\n",
    "    \"\"\"\n",
    "    plt.imshow(cm, interpolation = 'nearest', cmap = cmap)\n",
    "    plt.title(title)\n",
    "    plt.colorbar()\n",
    "    tick_marks = np.arange(len(classes))\n",
    "    plt.xticks(tick_marks, classes)\n",
    "    plt.yticks(tick_marks, classes)\n",
    "\n",
    "    if normalize:\n",
    "        cm = cm.astype('float') / cm.sum(axis = 1)[:, np.newaxis]\n",
    "\n",
    "    thresh = cm.max() / 2.\n",
    "    for i, j in itertools.product(range(cm.shape[0]), range(cm.shape[1])):\n",
    "        plt.text(i, j, cm[i, j],\n",
    "                 horizontalalignment = 'center',\n",
    "                 color = 'white' if cm[i, j] > thresh else 'black')\n",
    "\n",
    "    plt.tight_layout()\n",
    "    plt.ylabel('True label')\n",
    "    plt.xlabel('Predicted label')\n",
    "    \n",
    "# Compute confusion matrix\n",
    "cnf_matrix = confusion_matrix(prediction, testY, labels = [True, False])\n",
    "\n",
    "# Specify labels for the two classes\n",
    "class_names = ['Good Wine', 'Bad Wine']\n",
    "\n",
    "# Plot non-normalized confusion matrix\n",
    "plt.figure()\n",
    "plot_confusion_matrix(cnf_matrix, \\\n",
    "                      classes = class_names, \\\n",
    "                      title = 'Confusion matrix (non-normalised)')\n",
    "plt.show()"
   ]
  },
  {
   "cell_type": "markdown",
   "metadata": {},
   "source": [
    "##### Ending: Train on All Data for Future Use\n",
    "\n",
    "After we have our estimate of the generalisation error, we can train the classifier using all the data for predictions of future data."
   ]
  },
  {
   "cell_type": "code",
   "execution_count": 10,
   "metadata": {
    "collapsed": false
   },
   "outputs": [
    {
     "data": {
      "text/plain": [
       "KNeighborsClassifier(algorithm='auto', leaf_size=30, metric='minkowski',\n",
       "           metric_params=None, n_jobs=1, n_neighbors=31, p=2,\n",
       "           weights='uniform')"
      ]
     },
     "execution_count": 10,
     "metadata": {},
     "output_type": "execute_result"
    }
   ],
   "source": [
    "# Finally, train on all data for future use\n",
    "redWinesX = red_wine.iloc[ : , :-2].as_matrix()\n",
    "redWinesY = red_wine['GoodWine'].as_matrix()\n",
    "\n",
    "meanAll, stdAll = compMeanStd(redWinesX)\n",
    "redWinesXscaled = zScore(redWinesX, meanAll, stdAll) # Scale using estimates from all data\n",
    "\n",
    "clf.fit(redWinesXscaled, redWinesY) # Fit on all data"
   ]
  },
  {
   "cell_type": "markdown",
   "metadata": {
    "collapsed": false
   },
   "source": [
    "##### How do you judge whether the classifier is well-suited for the data set?\n",
    "\n",
    "In this Python exercise we have similar observations with the R exercise (Q2a):\n",
    "\n",
    "###### Selection of K-value for K-Nearest Neighbours\n",
    "\n",
    "From the earlier kNN classifier evaluation graph, we can observe that a large range of K-values produce similar validation performance. A different seed value (used in shuffling and splitting the train and test data) generally leads to a different optimal K-value, and a similar validation performance variations (with large number of K-values producing similar validation performance).\n",
    "\n",
    "Hence the selection of K, within this broad range, may not have huge impact on accuracy of prediction for future data points.\n",
    "\n",
    "###### Comparison to Benchmark Classifier\n",
    "\n",
    "A naive majority-based classifier can be used as benchmark. This classifier would classify all wines as good wines if the proportion of good wines is higher than the proportion of bad wines within the training set (otherwise, classify all wines as bad wines). The estimated accuracy of this naive predictor is as below:"
   ]
  },
  {
   "cell_type": "code",
   "execution_count": 11,
   "metadata": {
    "collapsed": false
   },
   "outputs": [
    {
     "name": "stdout",
     "output_type": "stream",
     "text": [
      "Benchmark Accuracy: 51.5%\n"
     ]
    }
   ],
   "source": [
    "# Naive Majority-based predictor\n",
    "if (sum(trainY) / len(trainY) > 0.5): # if 'True' label is more than 50% of the training data\n",
    "    # Benchmark accuracy of naive predictor which predicts everything as True\n",
    "    print('Benchmark Accuracy: ', 100 * sum(testY) / len(testY), '%', sep = '')\n",
    "else:\n",
    "    # Benchmark accuracy of naive predictor which predicts everything as False\n",
    "    print('Benchmark Accuracy: ', 100 * (1 - (sum(testY) / len(testY))), '%', sep = '')"
   ]
  },
  {
   "cell_type": "markdown",
   "metadata": {},
   "source": [
    "Our kNN classifier achieves much better accuracy than this benchmark. However, with an accuracy of around 70%, it is still not a highly accurate classifier. \n",
    "\n",
    "###### Consideration of Other Performance Measure\n",
    "\n",
    "In this exercise, we use accuracy as the performance measure. Depending on the application, other performance measures could be used. In the situation where we would like to detect as many true negatives as possible, specificity would be a better performance measure to use. \n",
    "\n",
    "The kNN classifier we selected, has an estimated specificity of around 66%. This could be potentially improved if we were to select the model based on specificity performance, during the 5-fold cross validation phase.\n",
    "\n",
    "###### Non-Parametric Approach of k-NN\n",
    "\n",
    "K-NN classifier adopts a non-parametric approach and hence the model can not be interpreted. It doesn't provide insights on the learned mechanisms. Consequently, we can't draw statistical inference on how the outcome variable (good or bad wine) depends on the inputs (e.g. sugar contents, acidity). For example, by how much does sugar contents influence the likelihood of a wine being high quality?\n"
   ]
  },
  {
   "cell_type": "code",
   "execution_count": null,
   "metadata": {
    "collapsed": true
   },
   "outputs": [],
   "source": []
  }
 ],
 "metadata": {
  "anaconda-cloud": {},
  "kernelspec": {
   "display_name": "Python [default]",
   "language": "python",
   "name": "python3"
  },
  "language_info": {
   "codemirror_mode": {
    "name": "ipython",
    "version": 3
   },
   "file_extension": ".py",
   "mimetype": "text/x-python",
   "name": "python",
   "nbconvert_exporter": "python",
   "pygments_lexer": "ipython3",
   "version": "3.5.2"
  }
 },
 "nbformat": 4,
 "nbformat_minor": 1
}
