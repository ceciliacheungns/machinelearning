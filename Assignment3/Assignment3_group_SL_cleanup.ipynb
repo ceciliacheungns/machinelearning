{
 "cells": [
  {
   "cell_type": "code",
   "execution_count": 4,
   "metadata": {
    "collapsed": false
   },
   "outputs": [
    {
     "name": "stderr",
     "output_type": "stream",
     "text": [
      "Loading required package: lattice\n",
      "Loading required package: ggplot2\n"
     ]
    }
   ],
   "source": [
    "library(\"C50\")\n",
    "library(\"caret\")"
   ]
  },
  {
   "cell_type": "markdown",
   "metadata": {},
   "source": [
    "1 Import the data and shuffle and split it into a training set (20,000 records), a validation set (8,000 records), and a test set (remaining records)."
   ]
  },
  {
   "cell_type": "code",
   "execution_count": 5,
   "metadata": {
    "collapsed": false
   },
   "outputs": [],
   "source": [
    "data <- read.csv('Loan_processed.csv')\n",
    "\n",
    "# shuffle \n",
    "data <- data[sample(nrow(data)),]\n",
    "\n",
    "# split\n",
    "trainSplit <- sample(nrow(data), 20000)\n",
    "train <- data[trainSplit, ]\n",
    "\n",
    "rest <- data[-trainSplit, ]\n",
    "\n",
    "validationSplit <- sample(nrow(rest), 8000)\n",
    "validation <- rest[validationSplit, ]\n",
    "test <- rest[-validationSplit, ]"
   ]
  },
  {
   "cell_type": "markdown",
   "metadata": {},
   "source": [
    "2 Using a classification tree, try to predict with an accuracy greater than #repaid loans / (#repaid loans + #charged off loans) if a loan will be repaid."
   ]
  },
  {
   "cell_type": "code",
   "execution_count": 6,
   "metadata": {
    "collapsed": false
   },
   "outputs": [
    {
     "data": {
      "text/html": [
       "0.859549835904592"
      ],
      "text/latex": [
       "0.859549835904592"
      ],
      "text/markdown": [
       "0.859549835904592"
      ],
      "text/plain": [
       "[1] 0.8595498"
      ]
     },
     "metadata": {},
     "output_type": "display_data"
    }
   ],
   "source": [
    "target <- nrow(data[data$loan_status == \"Fully Paid\", ]) / \n",
    "  (nrow(data[data$loan_status == \"Fully Paid\", ]) + nrow(data[data$loan_status == \"Charged Off\", ]))\n",
    "\n",
    "target"
   ]
  },
  {
   "cell_type": "code",
   "execution_count": 10,
   "metadata": {
    "collapsed": false
   },
   "outputs": [],
   "source": [
    "# fit tree model\n",
    "treeModel <- C5.0(x = train[, -8], y = train$loan_status)\n",
    "\n",
    "# make predictions on validation data\n",
    "predValidation <- predict(treeModel, validation[, -8])\n",
    "\n",
    "# confusion matrix for results on valiation set\n",
    "mTtrain <- confusionMatrix(predValidation, validation[, 8], positive = \"Charged Off\", \n",
    "                dnn = c(\"Prediction\", \"Reference\"))\n",
    "\n",
    "\n",
    "# make prediction on training data\n",
    "predTraining <- predict(treeModel, train[, -8])\n",
    "\n",
    "# confusion matrix for results on training set\n",
    "mTval <- confusionMatrix(predTraining, train[, 8], positive = \"Charged Off\", \n",
    "                dnn = c(\"Prediction\", \"Reference\"))\n",
    "\n",
    "# different way to calculate accuracy\n",
    "# sum(predValidation == validation[, 8]) / length(predValidation)"
   ]
  },
  {
   "cell_type": "markdown",
   "metadata": {},
   "source": [
    "The accuracy on the training set is: 0.8584\n",
    "The accuracy on the validation set is: 0.8575\n",
    "The target accuracy is : 0.8595498"
   ]
  },
  {
   "cell_type": "markdown",
   "metadata": {},
   "source": [
    "3 Experiment with the cost matrix. To achieve sensitivities of 25%, 40%, 50%.\n",
    "\n",
    "In order to achieve this we have to increase to cost of predicting a \"Charged Off\" loans as \"Fully Paid\". "
   ]
  },
  {
   "cell_type": "markdown",
   "metadata": {},
   "source": [
    "Model with ~25% sensitivity."
   ]
  },
  {
   "cell_type": "code",
   "execution_count": 11,
   "metadata": {
    "collapsed": false
   },
   "outputs": [
    {
     "data": {
      "text/html": [
       "<strong>Sensitivity:</strong> 0.218778486782133"
      ],
      "text/latex": [
       "\\textbf{Sensitivity:} 0.218778486782133"
      ],
      "text/markdown": [
       "**Sensitivity:** 0.218778486782133"
      ],
      "text/plain": [
       "Sensitivity \n",
       "  0.2187785 "
      ]
     },
     "metadata": {},
     "output_type": "display_data"
    },
    {
     "data": {
      "text/html": [
       "<strong>Precision:</strong> 0.268756998880179"
      ],
      "text/latex": [
       "\\textbf{Precision:} 0.268756998880179"
      ],
      "text/markdown": [
       "**Precision:** 0.268756998880179"
      ],
      "text/plain": [
       "Precision \n",
       " 0.268757 "
      ]
     },
     "metadata": {},
     "output_type": "display_data"
    },
    {
     "data": {
      "text/plain": [
       "             Reference\n",
       "Prediction    Charged Off Fully Paid\n",
       "  Charged Off         240        653\n",
       "  Fully Paid          857       6250"
      ]
     },
     "metadata": {},
     "output_type": "display_data"
    }
   ],
   "source": [
    "cost.matrix25 <- matrix(c(0, 0, 2.76, 0), 2, 2, byrow=TRUE)\n",
    "rownames(cost.matrix25) <- colnames(cost.matrix25) <- c(\"Charged Off\",\n",
    "                                                    \"Fully Paid\")\n",
    "\n",
    "# model with cost matrix\n",
    "treeModelCM25 <- C5.0(x = train[, -8], y = train$loan_status, costs = cost.matrix25)\n",
    "\n",
    "# use model on validation set\n",
    "predValidationCost25 <- predict(treeModelCM25, validation[, -8])\n",
    "\n",
    "# confusion matrix for results on training set\n",
    "m25 <- confusionMatrix(predValidationCost25, validation[, 8], positive = \"Charged Off\", dnn = c(\"Prediction\", \"Reference\"))\n",
    "m25$byClass[1]\n",
    "m25$byClass[5]\n",
    "m25$table"
   ]
  },
  {
   "cell_type": "markdown",
   "metadata": {},
   "source": [
    "Model with ~40% sensitivity."
   ]
  },
  {
   "cell_type": "code",
   "execution_count": 12,
   "metadata": {
    "collapsed": false
   },
   "outputs": [
    {
     "data": {
      "text/html": [
       "<strong>Sensitivity:</strong> 0.411121239744758"
      ],
      "text/latex": [
       "\\textbf{Sensitivity:} 0.411121239744758"
      ],
      "text/markdown": [
       "**Sensitivity:** 0.411121239744758"
      ],
      "text/plain": [
       "Sensitivity \n",
       "  0.4111212 "
      ]
     },
     "metadata": {},
     "output_type": "display_data"
    },
    {
     "data": {
      "text/html": [
       "<strong>Precision:</strong> 0.234773555439875"
      ],
      "text/latex": [
       "\\textbf{Precision:} 0.234773555439875"
      ],
      "text/markdown": [
       "**Precision:** 0.234773555439875"
      ],
      "text/plain": [
       "Precision \n",
       "0.2347736 "
      ]
     },
     "metadata": {},
     "output_type": "display_data"
    },
    {
     "data": {
      "text/plain": [
       "             Reference\n",
       "Prediction    Charged Off Fully Paid\n",
       "  Charged Off         451       1470\n",
       "  Fully Paid          646       5433"
      ]
     },
     "metadata": {},
     "output_type": "display_data"
    }
   ],
   "source": [
    "cost.matrix40 <- matrix(c(0, 0, 3.73, 0), 2, 2, byrow=TRUE)\n",
    "rownames(cost.matrix40) <- colnames(cost.matrix40) <- c(\"Charged Off\",\n",
    "                                                    \"Fully Paid\")\n",
    "\n",
    "# model with cost matrix\n",
    "treeModelCM40 <- C5.0(x = train[, -8], y = train$loan_status, costs = cost.matrix40)\n",
    "\n",
    "# use model on validation set\n",
    "predValidationCost40 <- predict(treeModelCM40, validation[, -8])\n",
    "\n",
    "# confusion matrix for results on training set\n",
    "m40 <- confusionMatrix(predValidationCost40, validation[, 8], positive = \"Charged Off\", dnn = c(\"Prediction\", \"Reference\"))\n",
    "m40$byClass[1]\n",
    "m40$byClass[5]\n",
    "m40$table"
   ]
  },
  {
   "cell_type": "markdown",
   "metadata": {},
   "source": [
    "Model with ~50% sensitivity."
   ]
  },
  {
   "cell_type": "code",
   "execution_count": 13,
   "metadata": {
    "collapsed": false
   },
   "outputs": [
    {
     "data": {
      "text/html": [
       "<strong>Sensitivity:</strong> 0.466727438468551"
      ],
      "text/latex": [
       "\\textbf{Sensitivity:} 0.466727438468551"
      ],
      "text/markdown": [
       "**Sensitivity:** 0.466727438468551"
      ],
      "text/plain": [
       "Sensitivity \n",
       "  0.4667274 "
      ]
     },
     "metadata": {},
     "output_type": "display_data"
    },
    {
     "data": {
      "text/html": [
       "<strong>Precision:</strong> 0.212096106048053"
      ],
      "text/latex": [
       "\\textbf{Precision:} 0.212096106048053"
      ],
      "text/markdown": [
       "**Precision:** 0.212096106048053"
      ],
      "text/plain": [
       "Precision \n",
       "0.2120961 "
      ]
     },
     "metadata": {},
     "output_type": "display_data"
    },
    {
     "data": {
      "text/plain": [
       "             Reference\n",
       "Prediction    Charged Off Fully Paid\n",
       "  Charged Off         512       1902\n",
       "  Fully Paid          585       5001"
      ]
     },
     "metadata": {},
     "output_type": "display_data"
    }
   ],
   "source": [
    "# cost matrix ~50%\n",
    "cost.matrix50 <- matrix(c(0, 0, 4.7, 0), 2, 2, byrow=TRUE)\n",
    "rownames(cost.matrix50) <- colnames(cost.matrix50) <- c(\"Charged Off\",\n",
    "                                                    \"Fully Paid\")\n",
    "\n",
    "# model with cost matrix\n",
    "treeModelCM50 <- C5.0(x = train[, -8], y = train$loan_status, costs = cost.matrix50)\n",
    "\n",
    "# use model on validation set\n",
    "predValidationCost50 <- predict(treeModelCM50, validation[, -8])\n",
    "\n",
    "# confusion matrix for results on training set\n",
    "m50 <- confusionMatrix(predValidationCost50, validation[, 8], positive = \"Charged Off\", dnn = c(\"Prediction\", \"Reference\"))\n",
    "m50$byClass[1]\n",
    "m50$byClass[5]\n",
    "m50$table"
   ]
  },
  {
   "cell_type": "markdown",
   "metadata": {},
   "source": [
    "4 Pick a cost parameter matrix that you assess as the most appropriate for identifying loan applications that deserve further examination."
   ]
  },
  {
   "cell_type": "code",
   "execution_count": null,
   "metadata": {
    "collapsed": true
   },
   "outputs": [],
   "source": []
  }
 ],
 "metadata": {
  "kernelspec": {
   "display_name": "R",
   "language": "R",
   "name": "ir"
  },
  "language_info": {
   "codemirror_mode": "r",
   "file_extension": ".r",
   "mimetype": "text/x-r-source",
   "name": "R",
   "pygments_lexer": "r",
   "version": "3.3.2"
  }
 },
 "nbformat": 4,
 "nbformat_minor": 0
}
